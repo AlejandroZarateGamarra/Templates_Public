{
  "nbformat": 4,
  "nbformat_minor": 0,
  "metadata": {
    "colab": {
      "name": "Semana2-Templates.ipynb",
      "provenance": [],
      "collapsed_sections": [],
      "authorship_tag": "ABX9TyNHUZMqOkEIF3BCcejqWFd1",
      "include_colab_link": true
    },
    "kernelspec": {
      "name": "python3",
      "display_name": "Python 3"
    },
    "language_info": {
      "name": "python"
    }
  },
  "cells": [
    {
      "cell_type": "markdown",
      "metadata": {
        "id": "view-in-github",
        "colab_type": "text"
      },
      "source": [
        "<a href=\"https://colab.research.google.com/github/AlejandroZarateGamarra/Templates_Public/blob/main/Semana2_Templates.ipynb\" target=\"_parent\"><img src=\"https://colab.research.google.com/assets/colab-badge.svg\" alt=\"Open In Colab\"/></a>"
      ]
    },
    {
      "cell_type": "markdown",
      "source": [
        "#Ejemplo 1"
      ],
      "metadata": {
        "id": "H4lrHt145rIp"
      }
    },
    {
      "cell_type": "code",
      "execution_count": null,
      "metadata": {
        "colab": {
          "base_uri": "https://localhost:8080/"
        },
        "id": "7lAjaYW55LMd",
        "outputId": "4ce05f3d-4761-4656-b3a5-725768cc30fe"
      },
      "outputs": [
        {
          "output_type": "stream",
          "name": "stdout",
          "text": [
            "Overwriting ejemplo1.cpp\n"
          ]
        }
      ],
      "source": [
        "%%writefile ejemplo1.cpp\n",
        "#include<iostream>\n",
        "using std::cout;\n",
        "int main(){\n",
        "    cout << \"Probando desde google colab\";\n",
        "    return 0;\n",
        "}"
      ]
    },
    {
      "cell_type": "code",
      "source": [
        "!g++ ejemplo1.cpp"
      ],
      "metadata": {
        "id": "rM2FwprH7H2E"
      },
      "execution_count": null,
      "outputs": []
    },
    {
      "cell_type": "code",
      "source": [
        "!./a.out"
      ],
      "metadata": {
        "colab": {
          "base_uri": "https://localhost:8080/"
        },
        "id": "GEffNQ3M7qHb",
        "outputId": "79ab0ff1-26be-49c5-87f4-c1f0ca9a6565"
      },
      "execution_count": null,
      "outputs": [
        {
          "output_type": "stream",
          "name": "stdout",
          "text": [
            "Probando desde google colab"
          ]
        }
      ]
    },
    {
      "cell_type": "code",
      "source": [
        "!g++ -std=c++11 ejemplo1.cpp && ./a.out"
      ],
      "metadata": {
        "colab": {
          "base_uri": "https://localhost:8080/"
        },
        "id": "pzcQCryK8kyp",
        "outputId": "eb3dede6-dee7-4a1b-f6dc-b42b080dfa29"
      },
      "execution_count": null,
      "outputs": [
        {
          "output_type": "stream",
          "name": "stdout",
          "text": [
            "Probando desde google colab"
          ]
        }
      ]
    },
    {
      "cell_type": "markdown",
      "source": [
        "#Ejemplo 2-Sin Templates"
      ],
      "metadata": {
        "id": "GIb9peoV8Cnw"
      }
    },
    {
      "cell_type": "code",
      "source": [
        "%%writefile Ejemplo2.hpp\n",
        "//Definicion de bibliotecas, clases y funciones\n",
        "#include <iostream>\n",
        "#include <cstdlib>// srand, rand\n",
        "#include <ctime>//time\n",
        "\n",
        "using std::cout;\n",
        "using std::cin;\n",
        "//definición de la funcion\n",
        "void generar(short* a, size_t n);\n",
        "void listar(short*, size_t);\n",
        "void mayor(short*, size_t);\n",
        "void ordenar(short*, size_t);\n",
        "void mayorPromedio(short* a, size_t n);"
      ],
      "metadata": {
        "colab": {
          "base_uri": "https://localhost:8080/"
        },
        "id": "BsDGkcjp8FEq",
        "outputId": "c06021a0-9ad6-46b7-c176-7e6047aace12"
      },
      "execution_count": null,
      "outputs": [
        {
          "output_type": "stream",
          "name": "stdout",
          "text": [
            "Writing Ejemplo2.hpp\n"
          ]
        }
      ]
    },
    {
      "cell_type": "code",
      "source": [
        "%%writefile Ejemplo2.cpp\n",
        "//implementacion de las bibliotecas, clases  y funciones\n",
        "#include \"Ejemplo2.hpp\"\n",
        "void generar(short* a, size_t n){\n",
        "  for(size_t i=0;i<n;++i){\n",
        "      a[i]=rand()%101+100;//rango de 100 a 200    \n",
        "  }  \n",
        "}\n",
        "void listar(short* a, size_t n){\n",
        "for(size_t i=0;i<n;++i){\n",
        "      cout<<i<<\"-> \"<<a[i]<<\"\\n\";\n",
        "  }  \n",
        "}\n",
        "void mayor(short* a, size_t n){\n",
        "  short _mayor=a[0], _pos=-1;\n",
        "  \n",
        "for(size_t i=1;i<n;++i){\n",
        "  if(a[i]>_mayor){\n",
        "      _mayor=a[i];//actualizo el mayor\n",
        "      _pos=i;\n",
        "    }\n",
        "  }\n",
        "  cout<<\"El mayor valor es\"<<_mayor<<\" y se encuentra en la posicion\"<<_pos<<\"\\n\";\n",
        "}\n",
        "void ordenar(short* a, size_t n){\n",
        "  for(int i=0;i<n-1;++i){\n",
        "  for(int j=i+1;j<n;++j){\n",
        "   if(a[i]>a[j]){\n",
        "    short aux=a[i];\n",
        "    a[i]=a[j];\n",
        "    a[j]=aux;\n",
        "  }\n",
        "}\n",
        "    }\n",
        "}\n",
        "void mayorPromedio(short* a, const size_t& n){    //const size_t& n = const es un valor inmutable \n",
        "                                                  //y lo pasa por referencia con el &. De esta forma utilizara su mismo espacio de memoria\n",
        "  float prom=0.0f;    \n",
        "  //obteniendo el promedio\n",
        "  for(int i=0;i<n;++i)\n",
        "        prom+=a[i];\n",
        "  prom/=n;//prom=prom/n   \n",
        "  //listar mayor al promedio\n",
        "  for(int i=0;i<n;++i)\n",
        "        if(a[i]>prom)cout<<i<<\"->\"<<a[i]<<\"\\n\";\n",
        "  }"
      ],
      "metadata": {
        "colab": {
          "base_uri": "https://localhost:8080/"
        },
        "id": "-3TpmM2g_qwH",
        "outputId": "0ec806ec-93aa-4faf-a4b0-0caac5cc976d"
      },
      "execution_count": null,
      "outputs": [
        {
          "output_type": "stream",
          "name": "stdout",
          "text": [
            "Writing Ejemplo2.cpp\n"
          ]
        }
      ]
    },
    {
      "cell_type": "code",
      "source": [
        "%%writefile Ejemplo.cpp\n",
        "#include \"Ejemplo2.hpp\"\n",
        "int main() {\n",
        "short* arreglo=new short[100];  \n",
        "srand(time(NULL));//inicializacion de la semilla\n",
        "generar(arreglo,100);\n",
        "listar(arreglo, 100);\n",
        "//mayor(arreglo, 100);  \n",
        "ordenar(arreglo, 100);\n",
        "cout<<\"-------------\\n\";\n",
        "//listar(arreglo, 100);\n",
        "  mayorPromedio(arreglo, 100);\n",
        "  return 0;\n",
        "}"
      ],
      "metadata": {
        "colab": {
          "base_uri": "https://localhost:8080/"
        },
        "id": "n3lhggm-_wOg",
        "outputId": "ed09a4c3-d6e5-4c11-aefa-c058f1c11310"
      },
      "execution_count": null,
      "outputs": [
        {
          "output_type": "stream",
          "name": "stdout",
          "text": [
            "Overwriting Ejemplo.cpp\n"
          ]
        }
      ]
    },
    {
      "cell_type": "code",
      "source": [
        "!g++ -std=c++1y Ejemplo2.cpp Ejemplo.cpp && ./a.out"
      ],
      "metadata": {
        "id": "tErI4-JwAIEl"
      },
      "execution_count": null,
      "outputs": []
    },
    {
      "cell_type": "markdown",
      "source": [
        "#Ejemplo 3-Con Templates\n",
        "> para que funcione con diferente tipo de dato"
      ],
      "metadata": {
        "id": "pNJljWzcFn8w"
      }
    },
    {
      "cell_type": "code",
      "source": [
        "%%writefile Biblioteca.hpp\n",
        "//Definicion de bibliotecas, clases y funciones\n",
        "#include <iostream>\n",
        "#include <cstdlib>// srand, rand\n",
        "#include <ctime>//time\n",
        "\n",
        "using std::cout;\n",
        "using std::cin;\n",
        "typedef long long miContador; //soporta negativos\n",
        "typedef unsigned long long ull; //soporta solo positivos\n",
        "template <typename Generico>    //definir la funcion como template\n",
        "\n",
        "class Arreglo{\n",
        "    Generico* a;\n",
        "    size_t n;\n",
        "public:\n",
        "    Arreglo() {a=new Generico[10]; n=0;}\n",
        "    Arreglo(Generico* _a, size_t _n) {a=_a; n=_n;}\n",
        "\n",
        "    void insertar(Generico g){\n",
        "        if(n<10)\n",
        "        a[n++] = g;   /* == a[n]=g; n++; */\n",
        "    }\n",
        "    void listar(){\n",
        "      for(size_t i=0;i<n;++i){\n",
        "      cout<<i<<\"-> \"<<a[i]<<\"\\n\";\n",
        "      }\n",
        "    } \n",
        "};"
      ],
      "metadata": {
        "colab": {
          "base_uri": "https://localhost:8080/"
        },
        "id": "USzFBKR0FqhK",
        "outputId": "9f528040-3781-4970-90d7-8cb8935d19ac"
      },
      "execution_count": null,
      "outputs": [
        {
          "output_type": "stream",
          "name": "stdout",
          "text": [
            "Overwriting Biblioteca.hpp\n"
          ]
        }
      ]
    },
    {
      "cell_type": "code",
      "source": [
        "%%writefile Ejemplo3.cpp\n",
        "#include \"Biblioteca.hpp\"\n",
        "int main() {\n",
        "    Arreglo<int>* arrEnteros = new Arreglo<int>();\n",
        "    Arreglo<float>* arrDecimales = new Arreglo<float>();\n",
        "    for(size_t i=0;i<10;++i)\n",
        "    {\n",
        "        arrEnteros->insertar(i*10);\n",
        "        arrDecimales->insertar(i*1.123);\n",
        "    }\n",
        "    arrEnteros->listar();\n",
        "    cout << \"\\n\";\n",
        "    arrDecimales->listar(); \n",
        "return 0;\n",
        "}"
      ],
      "metadata": {
        "colab": {
          "base_uri": "https://localhost:8080/"
        },
        "id": "KdHvKJdwGKO-",
        "outputId": "31bf6c46-5edf-4771-8ca4-8caed35de44f"
      },
      "execution_count": null,
      "outputs": [
        {
          "output_type": "stream",
          "name": "stdout",
          "text": [
            "Overwriting Ejemplo3.cpp\n"
          ]
        }
      ]
    },
    {
      "cell_type": "code",
      "source": [
        "!g++ Ejemplo3.cpp && ./a.out"
      ],
      "metadata": {
        "id": "LlwM7DzlJT12"
      },
      "execution_count": null,
      "outputs": []
    },
    {
      "cell_type": "markdown",
      "source": [
        "#Ejemplo 4-Asignacion\n",
        "> Implementar templates en las funciones anteriores"
      ],
      "metadata": {
        "id": "qToUSEriNdiL"
      }
    },
    {
      "cell_type": "code",
      "source": [
        "%%writefile Ejemplo4.hpp\n",
        "//Definicion de bibliotecas, clases y funciones\n",
        "#include <iostream>\n",
        "#include <cstdlib>// srand, rand\n",
        "#include <ctime>//time\n",
        "\n",
        "using std::cout;\n",
        "using std::cin;\n",
        "typedef long long miContador; //soporta negativos\n",
        "typedef unsigned long long ull; //soporta solo positivos\n",
        "template <typename Generico>    //definir la funcion como template\n",
        "\n",
        "class Arreglo {\n",
        "    Generico* a;\n",
        "    size_t n;\n",
        "public:\n",
        "    Arreglo(size_t _n) { a = new Generico[_n]; n = _n; }\n",
        "    Arreglo(Generico* _a, size_t _n) { a = _a; n = _n; }\n",
        "\n",
        "    void insertar(Generico g) {\n",
        "        if (n < 10)\n",
        "            a[n++] = g;   /* == a[n]=g; n++; */\n",
        "    }\n",
        "    void generar() {\n",
        "        for (size_t i = 0; i < n; ++i) {\n",
        "            a[i] = rand() % 101 + 100;//rango de 100 a 200  \n",
        "        }\n",
        "    }\n",
        "    void listar() {\n",
        "        for (size_t i = 0; i < n; ++i) {\n",
        "            cout << i << \"-> \" << a[i] << \"\\n\";\n",
        "        }\n",
        "    }\n",
        "    void mayor() {\n",
        "        short _mayor = a[0], _pos = 0;\n",
        "\n",
        "        for (size_t i = 1; i < n; ++i) {\n",
        "            if (a[i] > _mayor) {\n",
        "                _mayor = a[i];//actualizo el mayor\n",
        "                _pos = i;\n",
        "            }\n",
        "        }\n",
        "        cout << \"El mayor valor es \" << _mayor << \" y se encuentra en la posicion \" << _pos << \"\\n\";\n",
        "    }\n",
        "    void ordenar() {\n",
        "        cout << \"\\nArreglo Ordenado\\n\";\n",
        "        for (int i = 0; i < n - 1; ++i) {\n",
        "            for (int j = i + 1; j < n; ++j) {\n",
        "                if (a[i] > a[j]) {\n",
        "                    short aux = a[i];\n",
        "                    a[i] = a[j];\n",
        "                    a[j] = aux;\n",
        "                }\n",
        "            }\n",
        "        }\n",
        "    }\n",
        "    void mayorPromedio() {\n",
        "        cout << \"\\nElementos mayores al promedio\\n\";\n",
        "        float prom = 0.0f;\n",
        "        //obteniendo el promedio\n",
        "        for (int i = 0; i < n; ++i)\n",
        "            prom += a[i];\n",
        "        prom /= n;//prom=prom/n   \n",
        "        //listar mayor al promedio\n",
        "        for (int i = 0; i < n; ++i)\n",
        "            if (a[i] > prom)cout << i << \"->\" << a[i] << \"\\n\";\n",
        "    }\n",
        "};"
      ],
      "metadata": {
        "id": "dnuJGDiPNmiq",
        "colab": {
          "base_uri": "https://localhost:8080/"
        },
        "outputId": "34923741-d17c-4408-f07a-de26dc35f9b6"
      },
      "execution_count": 1,
      "outputs": [
        {
          "output_type": "stream",
          "name": "stdout",
          "text": [
            "Writing Ejemplo4.hpp\n"
          ]
        }
      ]
    },
    {
      "cell_type": "code",
      "source": [
        "%%writefile Ejemplo4.cpp\n",
        "#include \"Ejemplo4.hpp\"\n",
        "\n",
        "int main() {\n",
        "    srand(time(NULL));//inicializacion de la semilla\n",
        "    size_t nele;\n",
        "    cout << \"Cantidad de elementos: \"; cin >> nele;\n",
        "\n",
        "    Arreglo<int>* arrEnteros = new Arreglo<int>(nele);\n",
        "\n",
        "    arrEnteros->generar();\n",
        "    arrEnteros->listar();\n",
        "    arrEnteros->mayor();\n",
        "    arrEnteros->ordenar();\n",
        "    arrEnteros->listar();\n",
        "    arrEnteros->mayorPromedio();\n",
        "\n",
        "    return 0;\n",
        "}"
      ],
      "metadata": {
        "colab": {
          "base_uri": "https://localhost:8080/"
        },
        "id": "-zasGDVxJ5TK",
        "outputId": "f79ae729-1d18-482d-8bef-26ab0c64a1d4"
      },
      "execution_count": 2,
      "outputs": [
        {
          "output_type": "stream",
          "name": "stdout",
          "text": [
            "Writing Ejemplo4.cpp\n"
          ]
        }
      ]
    },
    {
      "cell_type": "code",
      "source": [
        "!g++ Ejemplo4.cpp && ./a.out"
      ],
      "metadata": {
        "colab": {
          "base_uri": "https://localhost:8080/"
        },
        "id": "CKq6Pw8sJ_hA",
        "outputId": "c8f70586-107c-4c5c-fa59-aebc2ffe9bcf"
      },
      "execution_count": 3,
      "outputs": [
        {
          "output_type": "stream",
          "name": "stdout",
          "text": [
            "Cantidad de elementos: 5\n",
            "0-> 104\n",
            "1-> 175\n",
            "2-> 141\n",
            "3-> 152\n",
            "4-> 191\n",
            "El mayor valor es 191 y se encuentra en la posicion 4\n",
            "\n",
            "Arreglo Ordenado\n",
            "0-> 104\n",
            "1-> 141\n",
            "2-> 152\n",
            "3-> 175\n",
            "4-> 191\n",
            "\n",
            "Elementos mayores al promedio\n",
            "3->175\n",
            "4->191\n"
          ]
        }
      ]
    }
  ]
}